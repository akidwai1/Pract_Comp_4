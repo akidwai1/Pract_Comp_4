{
 "cells": [
  {
   "cell_type": "markdown",
   "id": "bfba30c5-0244-42c7-8e2a-051841f62985",
   "metadata": {},
   "source": [
    "6.6.1 Lord of the Fruit Flies\n",
    "Identify how many papers in the PubMed database have the words Drosophila virilis in their title or abstract."
   ]
  },
  {
   "cell_type": "code",
   "execution_count": 1,
   "id": "33ba4f3a-35c0-4b56-a14e-41c130f52d46",
   "metadata": {},
   "outputs": [],
   "source": [
    "from Bio import Entrez\n",
    "import re"
   ]
  },
  {
   "cell_type": "code",
   "execution_count": 2,
   "id": "0bf8c198-b232-4ac8-b70b-3d2be1989639",
   "metadata": {},
   "outputs": [
    {
     "data": {
      "text/plain": [
       "'571'"
      ]
     },
     "execution_count": 2,
     "metadata": {},
     "output_type": "execute_result"
    }
   ],
   "source": [
    "#  tell NCBI your email address\n",
    "Entrez.email = \"akidwai@andrew.cmu.edu\"\n",
    "handle = Entrez.esearch(db=\"pubmed\", \n",
    "                        term=\"Drosophila virilis[Title/Abstract]\",\n",
    "                        usehistory=\"y\")\n",
    "record = Entrez.read(handle)\n",
    "# generate a Python list with all Pubmed IDs of articles about D. virilis\n",
    "id_list = record[\"IdList\"]\n",
    "record[\"Count\"]"
   ]
  },
  {
   "cell_type": "code",
   "execution_count": 3,
   "id": "62e753c8-d378-4b8e-b94a-39b35ed61529",
   "metadata": {},
   "outputs": [],
   "source": [
    "webenv = record[\"WebEnv\"]\n",
    "query_key = record[\"QueryKey\"]"
   ]
  },
  {
   "cell_type": "markdown",
   "id": "3600b219-b1b9-456a-b2eb-9e3e37864da4",
   "metadata": {},
   "source": [
    "Retrieve the PubMed entries that were identified in step(1)."
   ]
  },
  {
   "cell_type": "code",
   "execution_count": 5,
   "id": "cda40dbf-51c4-48de-aeed-cd69c36689a5",
   "metadata": {},
   "outputs": [],
   "source": [
    "handle = Entrez.efetch(db=\"pubmed\",\n",
    "                       rettype=\"medline\", \n",
    "                       retmode=\"text\", \n",
    "                       retstart=0,\n",
    "retmax=571, webenv=webenv, query_key=query_key)"
   ]
  },
  {
   "cell_type": "code",
   "execution_count": 6,
   "id": "ce5cccf8-7242-4942-bf27-1efd6ba6325d",
   "metadata": {},
   "outputs": [],
   "source": [
    "out_handle = open(\"D_virilis_pubs.txt\", \"w\")\n",
    "data = handle.read()\n",
    "handle.close()\n",
    "out_handle.write(data)\n",
    "out_handle.close()"
   ]
  },
  {
   "cell_type": "markdown",
   "id": "80073abf-ccf5-4b17-80ef-e3fe5f0b390c",
   "metadata": {},
   "source": [
    "Count the number of contributions per author"
   ]
  },
  {
   "cell_type": "code",
   "execution_count": 7,
   "id": "7b869279-4d6f-4978-8fbf-dc923a3433d2",
   "metadata": {},
   "outputs": [],
   "source": [
    "with open(\"D_virilis_pubs.txt\") as datafile:\n",
    "    author_dict = {}\n",
    "    for line in datafile:\n",
    "        if re.match(\"AU\", line):\n",
    "            # capture author\n",
    "            author = line.split(\"-\", 1)[1]\n",
    "            # remove leading and trailing whitespace\n",
    "            author = author.strip()\n",
    "            # if key is present, add 1\n",
    "            # if it's not present, initialize at 1\n",
    "            author_dict[author] = 1 + author_dict.get(author, 0)"
   ]
  },
  {
   "cell_type": "markdown",
   "id": "3442f90b-b67a-41e1-85e6-e4c7ce734d57",
   "metadata": {},
   "source": [
    "Identify the five authors with the most contributions."
   ]
  },
  {
   "cell_type": "code",
   "execution_count": 9,
   "id": "c44ecc8b-fcc1-4bfe-bb7f-22acfab8eb0f",
   "metadata": {},
   "outputs": [
    {
     "name": "stdout",
     "output_type": "stream",
     "text": [
      "Gruntenko NE : 36\n",
      "Evgen'ev MB : 32\n",
      "Hoikkala A : 26\n",
      "Raushenbakh IIu : 24\n",
      "Korochkin LI : 22\n"
     ]
    }
   ],
   "source": [
    "for author in sorted(author_dict, key = author_dict.get, reverse = True)[:5]:\n",
    "    print(author, \":\", author_dict[author])"
   ]
  },
  {
   "cell_type": "code",
   "execution_count": null,
   "id": "167f9aad-9f10-48f0-94ca-45ddfdc980c4",
   "metadata": {},
   "outputs": [],
   "source": []
  }
 ],
 "metadata": {
  "kernelspec": {
   "display_name": "Python 3 (ipykernel)",
   "language": "python",
   "name": "python3"
  },
  "language_info": {
   "codemirror_mode": {
    "name": "ipython",
    "version": 3
   },
   "file_extension": ".py",
   "mimetype": "text/x-python",
   "name": "python",
   "nbconvert_exporter": "python",
   "pygments_lexer": "ipython3",
   "version": "3.11.5"
  }
 },
 "nbformat": 4,
 "nbformat_minor": 5
}
