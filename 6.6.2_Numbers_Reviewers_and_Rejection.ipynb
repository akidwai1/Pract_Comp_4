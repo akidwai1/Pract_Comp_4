{
 "cells": [
  {
   "cell_type": "markdown",
   "id": "8e619800-d541-41cc-859f-2aabb9b0b462",
   "metadata": {},
   "source": [
    "6.6.2, Fox et al. 2016"
   ]
  },
  {
   "cell_type": "code",
   "execution_count": 1,
   "id": "9eaf8e7c-e8c9-4174-93b6-0bd9a7a075aa",
   "metadata": {},
   "outputs": [],
   "source": [
    "import pandas\n",
    "import numpy as np"
   ]
  },
  {
   "cell_type": "markdown",
   "id": "3c08fa6e-d5dc-4f21-9d7c-00f4ff7b8296",
   "metadata": {},
   "source": [
    "First, we read the input, and take a look at the column names"
   ]
  },
  {
   "cell_type": "code",
   "execution_count": 3,
   "id": "6fd1263e-c97e-40be-b3b6-b12f4bc9167d",
   "metadata": {},
   "outputs": [],
   "source": [
    "fox = pandas.read_csv(\"Desktop/Fox2015_data.csv\")"
   ]
  },
  {
   "cell_type": "code",
   "execution_count": 4,
   "id": "7a459a19-147a-4121-8a5c-9c1ae2466f2f",
   "metadata": {},
   "outputs": [
    {
     "data": {
      "text/plain": [
       "Index(['MsID', 'Year', 'HandlingEditorSex', 'ReviewerSex', 'ReviewerRegion',\n",
       "       'ReviewerInvited', 'ReviewerAgreed', 'ReviewerScore', 'FinalDecision'],\n",
       "      dtype='object')"
      ]
     },
     "execution_count": 4,
     "metadata": {},
     "output_type": "execute_result"
    }
   ],
   "source": [
    "fox.columns"
   ]
  },
  {
   "cell_type": "markdown",
   "id": "b440cf29-8031-4413-825c-686b1fb0d18b",
   "metadata": {},
   "source": [
    "Extract the unique manuscripts and count them"
   ]
  },
  {
   "cell_type": "code",
   "execution_count": 5,
   "id": "41f54f4c-61dc-440e-aad4-2c82fbaae602",
   "metadata": {},
   "outputs": [
    {
     "name": "stdout",
     "output_type": "stream",
     "text": [
      "6720\n"
     ]
    }
   ],
   "source": [
    "unique_ms = list(set(fox[\"MsID\"]))\n",
    "num_ms = len(unique_ms)\n",
    "print(num_ms)"
   ]
  },
  {
   "cell_type": "markdown",
   "id": "a8b76ae5-a24a-461a-98a3-69045ad23b83",
   "metadata": {},
   "source": [
    "Now, we restructure the data to individual lists for the number of reviewers, the final decision, and the year for each manuscript. At the end, we convert the lists into np.arrays"
   ]
  },
  {
   "cell_type": "code",
   "execution_count": 6,
   "id": "0659b842-4a01-436c-bfc1-95399a29fe49",
   "metadata": {},
   "outputs": [],
   "source": [
    "num_reviewers = []\n",
    "final_decision = []\n",
    "year = []\n",
    "\n",
    "for ms in unique_ms:\n",
    "    # extract the rows\n",
    "    subset = fox[fox[\"MsID\"] == ms]\n",
    "    # count number of reviewers by summing ReviewerAgreed\n",
    "    num_reviewers.append(sum(subset[\"ReviewerAgreed\"]))\n",
    "    # extract final decision\n",
    "    if list(subset[\"FinalDecision\"])[0] == 1:\n",
    "        final_decision.append(1)\n",
    "    else:\n",
    "        final_decision.append(0)\n",
    "    # extract year\n",
    "    year.append(list(subset[\"Year\"])[0])\n",
    "\n",
    "# convert to np.array\n",
    "num_reviewers = np.array(num_reviewers)\n",
    "final_decision = np.array(final_decision)\n",
    "year = np.array(year)"
   ]
  },
  {
   "cell_type": "markdown",
   "id": "02988e0c-9de2-413e-bfbc-d97f055ee258",
   "metadata": {},
   "source": [
    "Now we write a function that takes a year as input, and prints the rejection rate for each number of reviewers, along with some other summary information. "
   ]
  },
  {
   "cell_type": "code",
   "execution_count": 7,
   "id": "10cb3d90-f1dc-4822-9028-b589ce4696aa",
   "metadata": {},
   "outputs": [],
   "source": [
    "def get_prob_rejection(my_year = \"all\"):\n",
    "    # subset the data\n",
    "    if my_year != \"all\":\n",
    "        my_num_reviewers = num_reviewers[year == my_year]\n",
    "        my_final_decision = final_decision[year == my_year]\n",
    "    else:\n",
    "        my_num_reviewers = num_reviewers\n",
    "        my_final_decision = final_decision\n",
    "    # start printing output\n",
    "    print(\"===============================\")\n",
    "    print(\"Year:\", my_year)\n",
    "    print(\"Submissions:\", len(my_final_decision))\n",
    "    print(\"Overall rejection rate:\", \n",
    "          round(my_final_decision.mean(), 3))\n",
    "    print(\"NumRev\", \"\\t\", \"NumMs\", \"\\t\", \"rejection rate\")\n",
    "    for i in range(max(my_num_reviewers) + 1):\n",
    "        print(i, \"\\t\",\n",
    "              len(my_final_decision[my_num_reviewers == i]), \"\\t\",\n",
    "              round(my_final_decision[my_num_reviewers == i].mean(), 3))\n",
    "    print(\"===============================\")"
   ]
  },
  {
   "cell_type": "markdown",
   "id": "04764cb4-8c00-4665-b0c9-85195fe43587",
   "metadata": {},
   "source": [
    "Compile a table measuring the probability of rejection given the number of reviewers. Does having more reviewers increase the probability of being rejected?"
   ]
  },
  {
   "cell_type": "code",
   "execution_count": 8,
   "id": "5a2f84bb-f112-4592-8639-f2206f7b91a4",
   "metadata": {},
   "outputs": [
    {
     "name": "stdout",
     "output_type": "stream",
     "text": [
      "===============================\n",
      "Year: all\n",
      "Submissions: 6720\n",
      "Overall rejection rate: 0.807\n",
      "NumRev \t NumMs \t rejection rate\n",
      "0 \t 2875 \t 0.978\n",
      "1 \t 91 \t 0.527\n",
      "2 \t 2667 \t 0.685\n",
      "3 \t 1012 \t 0.674\n",
      "4 \t 72 \t 0.708\n",
      "5 \t 3 \t 1.0\n",
      "===============================\n"
     ]
    }
   ],
   "source": [
    "get_prob_rejection(\"all\")"
   ]
  },
  {
   "cell_type": "markdown",
   "id": "a695b83e-39b7-4192-9c88-a5756de3e393",
   "metadata": {},
   "source": [
    "According to the output, it seems that a higher number of reviewers indeed means a higher probability of rejection. Especially, if we see the difference between one and two reviewers."
   ]
  },
  {
   "cell_type": "markdown",
   "id": "3da95968-67b4-47b0-8b15-fb124532605f",
   "metadata": {},
   "source": [
    "Repeat the analysis above for each year represented in the database."
   ]
  },
  {
   "cell_type": "code",
   "execution_count": 9,
   "id": "dcc457ac-2520-4868-ae99-1909ac33afb3",
   "metadata": {},
   "outputs": [
    {
     "name": "stdout",
     "output_type": "stream",
     "text": [
      "===============================\n",
      "Year: 2009\n",
      "Submissions: 626\n",
      "Overall rejection rate: 0.827\n",
      "NumRev \t NumMs \t rejection rate\n",
      "0 \t 306 \t 0.977\n",
      "1 \t 2 \t 0.5\n",
      "2 \t 228 \t 0.68\n",
      "3 \t 86 \t 0.698\n",
      "4 \t 4 \t 0.75\n",
      "===============================\n"
     ]
    }
   ],
   "source": [
    "get_prob_rejection(2009)"
   ]
  },
  {
   "cell_type": "code",
   "execution_count": 10,
   "id": "c535af20-ea0a-45a0-ab2d-c4f8ef1e0883",
   "metadata": {},
   "outputs": [
    {
     "name": "stdout",
     "output_type": "stream",
     "text": [
      "===============================\n",
      "Year: 2004\n",
      "Submissions: 390\n",
      "Overall rejection rate: 0.741\n",
      "NumRev \t NumMs \t rejection rate\n",
      "0 \t 55 \t 0.836\n",
      "1 \t 8 \t 0.5\n",
      "2 \t 302 \t 0.735\n",
      "3 \t 25 \t 0.68\n",
      "===============================\n",
      "===============================\n",
      "Year: 2005\n",
      "Submissions: 467\n",
      "Overall rejection rate: 0.745\n",
      "NumRev \t NumMs \t rejection rate\n",
      "0 \t 117 \t 0.897\n",
      "1 \t 17 \t 0.471\n",
      "2 \t 299 \t 0.692\n",
      "3 \t 34 \t 0.824\n",
      "===============================\n",
      "===============================\n",
      "Year: 2006\n",
      "Submissions: 548\n",
      "Overall rejection rate: 0.712\n",
      "NumRev \t NumMs \t rejection rate\n",
      "0 \t 171 \t 0.918\n",
      "1 \t 17 \t 0.353\n",
      "2 \t 322 \t 0.634\n",
      "3 \t 36 \t 0.611\n",
      "4 \t 2 \t 0.5\n",
      "===============================\n",
      "===============================\n",
      "Year: 2007\n",
      "Submissions: 557\n",
      "Overall rejection rate: 0.79\n",
      "NumRev \t NumMs \t rejection rate\n",
      "0 \t 207 \t 0.981\n",
      "1 \t 12 \t 0.5\n",
      "2 \t 255 \t 0.678\n",
      "3 \t 75 \t 0.693\n",
      "4 \t 8 \t 0.75\n",
      "===============================\n",
      "===============================\n",
      "Year: 2008\n",
      "Submissions: 604\n",
      "Overall rejection rate: 0.768\n",
      "NumRev \t NumMs \t rejection rate\n",
      "0 \t 254 \t 0.961\n",
      "1 \t 5 \t 0.6\n",
      "2 \t 285 \t 0.639\n",
      "3 \t 56 \t 0.589\n",
      "4 \t 4 \t 0.5\n",
      "===============================\n",
      "===============================\n",
      "Year: 2009\n",
      "Submissions: 626\n",
      "Overall rejection rate: 0.827\n",
      "NumRev \t NumMs \t rejection rate\n",
      "0 \t 306 \t 0.977\n",
      "1 \t 2 \t 0.5\n",
      "2 \t 228 \t 0.68\n",
      "3 \t 86 \t 0.698\n",
      "4 \t 4 \t 0.75\n",
      "===============================\n",
      "===============================\n",
      "Year: 2010\n",
      "Submissions: 670\n",
      "Overall rejection rate: 0.846\n",
      "NumRev \t NumMs \t rejection rate\n",
      "0 \t 341 \t 0.997\n",
      "1 \t 1 \t 1.0\n",
      "2 \t 116 \t 0.724\n",
      "3 \t 198 \t 0.672\n",
      "4 \t 13 \t 0.615\n",
      "5 \t 1 \t 1.0\n",
      "===============================\n",
      "===============================\n",
      "Year: 2011\n",
      "Submissions: 740\n",
      "Overall rejection rate: 0.82\n",
      "NumRev \t NumMs \t rejection rate\n",
      "0 \t 370 \t 0.997\n",
      "1 \t 5 \t 0.6\n",
      "2 \t 118 \t 0.653\n",
      "3 \t 227 \t 0.626\n",
      "4 \t 20 \t 0.8\n",
      "===============================\n",
      "===============================\n",
      "Year: 2012\n",
      "Submissions: 783\n",
      "Overall rejection rate: 0.844\n",
      "NumRev \t NumMs \t rejection rate\n",
      "0 \t 392 \t 0.992\n",
      "1 \t 3 \t 0.667\n",
      "2 \t 185 \t 0.686\n",
      "3 \t 188 \t 0.691\n",
      "4 \t 13 \t 0.846\n",
      "5 \t 2 \t 1.0\n",
      "===============================\n",
      "===============================\n",
      "Year: 2013\n",
      "Submissions: 872\n",
      "Overall rejection rate: 0.847\n",
      "NumRev \t NumMs \t rejection rate\n",
      "0 \t 436 \t 0.995\n",
      "1 \t 14 \t 0.571\n",
      "2 \t 366 \t 0.691\n",
      "3 \t 51 \t 0.804\n",
      "4 \t 5 \t 0.6\n",
      "===============================\n",
      "===============================\n",
      "Year: 2014\n",
      "Submissions: 463\n",
      "Overall rejection rate: 0.862\n",
      "NumRev \t NumMs \t rejection rate\n",
      "0 \t 226 \t 0.996\n",
      "1 \t 7 \t 0.857\n",
      "2 \t 191 \t 0.749\n",
      "3 \t 36 \t 0.667\n",
      "4 \t 3 \t 0.333\n",
      "===============================\n"
     ]
    }
   ],
   "source": [
    "for yr in range(2004, 2015):\n",
    "    get_prob_rejection(yr)"
   ]
  },
  {
   "cell_type": "code",
   "execution_count": null,
   "id": "9df875ea-91b8-4809-b93c-8066db135162",
   "metadata": {},
   "outputs": [],
   "source": []
  }
 ],
 "metadata": {
  "kernelspec": {
   "display_name": "Python 3 (ipykernel)",
   "language": "python",
   "name": "python3"
  },
  "language_info": {
   "codemirror_mode": {
    "name": "ipython",
    "version": 3
   },
   "file_extension": ".py",
   "mimetype": "text/x-python",
   "name": "python",
   "nbconvert_exporter": "python",
   "pygments_lexer": "ipython3",
   "version": "3.11.5"
  }
 },
 "nbformat": 4,
 "nbformat_minor": 5
}
